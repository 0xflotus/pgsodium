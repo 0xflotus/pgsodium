{
 "cells": [
  {
   "cell_type": "markdown",
   "metadata": {},
   "source": [
    "# Public Key Encryption \"Box\"\n",
    "\n",
    "The `box` API uses public key encryption to securely send messages between two parties who only know each others public keys.  Each party has a secret key that is used to encrypt messages.\n",
    "\n",
    "[Libsodium Documentation](https://doc.libsodium.org/public-key_cryptography/authenticated_encryption)"
   ]
  },
  {
   "cell_type": "code",
   "execution_count": 1,
   "metadata": {
    "scrolled": true
   },
   "outputs": [],
   "source": [
    "%load_ext sql\n",
    "%sql postgresql://postgres@/"
   ]
  },
  {
   "cell_type": "markdown",
   "metadata": {},
   "source": [
    "Public key ncryption requires each party have a pair of keys, one public and one private, and a nonce.  The nonce doesn't have to be confidential, but it should never ever be reused with the same key. The easiest way to generate a nonce is to use `crypto_secretbox_noncegen`:"
   ]
  },
  {
   "cell_type": "code",
   "execution_count": 3,
   "metadata": {},
   "outputs": [
    {
     "name": "stdout",
     "output_type": "stream",
     "text": [
      " * postgresql://postgres@/\n",
      "1 rows affected.\n",
      " * postgresql://postgres@/\n",
      "1 rows affected.\n",
      " * postgresql://postgres@/\n",
      "1 rows affected.\n"
     ]
    }
   ],
   "source": [
    "nonce = %sql SELECT crypto_box_noncegen::text from pgsodium.crypto_box_noncegen()\n",
    "nonce = nonce[0][0]\n",
    "\n",
    "bob = %sql SELECT public::text, secret::text FROM pgsodium.crypto_box_new_keypair()\n",
    "bob_public, bob_secret = bob[0]\n",
    "\n",
    "alice = %sql SELECT public::text, secret::text FROM pgsodium.crypto_box_new_keypair()\n",
    "alice_public, alice_secret = bob[0]"
   ]
  },
  {
   "cell_type": "markdown",
   "metadata": {},
   "source": [
    "## Encryption\n",
    "\n",
    "Alice can encrypt a message to Bob with her keypair and Bob's public key."
   ]
  },
  {
   "cell_type": "code",
   "execution_count": 12,
   "metadata": {
    "scrolled": true
   },
   "outputs": [
    {
     "name": "stdout",
     "output_type": "stream",
     "text": [
      " * postgresql://postgres@/\n",
      "1 rows affected.\n",
      "Encrypted message from Alice to Bob is:  \\x516414a93dc9f229a2c1d533a9c90fd82d11bf712ed12d5765\n"
     ]
    }
   ],
   "source": [
    "box = %sql SELECT crypto_box::text FROM pgsodium.crypto_box('hello bob', :nonce, :bob_public, :alice_secret)\n",
    "box = box[0][0]\n",
    "print('Encrypted message from Alice to Bob is: ', box)"
   ]
  },
  {
   "cell_type": "markdown",
   "metadata": {},
   "source": [
    "## Decryption\n"
   ]
  },
  {
   "cell_type": "code",
   "execution_count": 15,
   "metadata": {},
   "outputs": [
    {
     "name": "stdout",
     "output_type": "stream",
     "text": [
      " * postgresql://postgres@/\n",
      "1 rows affected.\n",
      "Verified message is:  hello bob\n"
     ]
    }
   ],
   "source": [
    "message = %sql select crypto_box_open FROM pgsodium.crypto_box_open(:box, :nonce, :alice_public, :bob_secret)\n",
    "message = message[0][0]\n",
    "print('Verified message is: ', message.tobytes().decode('utf8'))"
   ]
  }
 ],
 "metadata": {
  "kernelspec": {
   "display_name": "Python 3",
   "language": "python",
   "name": "python3"
  },
  "language_info": {
   "codemirror_mode": {
    "name": "ipython",
    "version": 3
   },
   "file_extension": ".py",
   "mimetype": "text/x-python",
   "name": "python",
   "nbconvert_exporter": "python",
   "pygments_lexer": "ipython3",
   "version": "3.7.3"
  }
 },
 "nbformat": 4,
 "nbformat_minor": 2
}
